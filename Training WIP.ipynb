{
 "cells": [
  {
   "cell_type": "markdown",
   "metadata": {},
   "source": [
    "# TAXII 2.0 Tutorial\n",
    "\n",
    "Connect to the UberTAXII server, list API roots, and pull some STIX data."
   ]
  },
  {
   "cell_type": "code",
   "execution_count": 1,
   "metadata": {},
   "outputs": [],
   "source": [
    "# A \"Server\" object pulls general information about the server, and gives you a list of API roots.\n",
    "# Connect to it by providing the URL, username, and password.\n",
    "\n",
    "from taxii2client import Server\n",
    "server = Server('https://ubertaxii.com/taxii/', user='ubertaxii', password='certain_players_want_a_pony')"
   ]
  },
  {
   "cell_type": "code",
   "execution_count": 2,
   "metadata": {},
   "outputs": [
    {
     "name": "stdout",
     "output_type": "stream",
     "text": [
      "Title:\t\tÜberTAXII ist der beste TAXII-Server der Welt.\n",
      "Description:\tLose lippen versenken schiffe.\n"
     ]
    }
   ],
   "source": [
    "# Print some basic information, available without making additional requests.\n",
    "\n",
    "print(\"Title:\\t\\t\" + server.title)\n",
    "print(\"Description:\\t\" + server.description)"
   ]
  },
  {
   "cell_type": "code",
   "execution_count": 3,
   "metadata": {},
   "outputs": [
    {
     "name": "stdout",
     "output_type": "stream",
     "text": [
      "CIRCL data\n",
      "All your base are belong to CIRCL.\n",
      "https://ubertaxii.com/taxii/circl/\n",
      "\n",
      "\n",
      "AIS data\n",
      "All your base are belong to DHS.\n",
      "https://ubertaxii.com/taxii/ais/\n",
      "\n",
      "\n",
      "Perch data\n",
      "All your base are belong to Aharon Chernin.\n",
      "https://ubertaxii.com/taxii/perch/\n",
      "\n",
      "\n",
      "MITRE ATT&CK data\n",
      "All your base are belong to MITRE.\n",
      "https://ubertaxii.com/taxii/mitre/\n",
      "\n",
      "\n",
      "STIX2 hackathon data\n",
      "All your base are belong to Praha.\n",
      "https://ubertaxii.com/taxii/scratch/\n",
      "\n",
      "\n",
      "CTI TC Interoperability SC testing data\n",
      "Official Test Data from STIX/TAXII 2.0 Interoperability Test Document Part1: https://goo.gl/rjTv9V\n",
      "https://ubertaxii.com/taxii/interop/\n",
      "\n",
      "\n",
      "read-only interop test\n",
      "read-only interop test\n",
      "https://ubertaxii.com/taxii/read-only/\n",
      "\n",
      "\n",
      "write-only interop test\n",
      "write-only interop test\n",
      "https://ubertaxii.com/taxii/write-only/\n",
      "\n",
      "\n",
      "read-write interop test\n",
      "read-write interop test\n",
      "https://ubertaxii.com/taxii/read-write/\n",
      "\n",
      "\n"
     ]
    }
   ],
   "source": [
    "# Iterate through the API roots. Note that addtional requests are made automatically to get the title and description.\n",
    "\n",
    "for api_root in server.api_roots:\n",
    "    print(api_root.title)\n",
    "    print(api_root.description)\n",
    "    print(api_root.url)\n",
    "    print(\"\\n\")"
   ]
  },
  {
   "cell_type": "code",
   "execution_count": 4,
   "metadata": {},
   "outputs": [
    {
     "name": "stdout",
     "output_type": "stream",
     "text": [
      "CIRCL OSINT\n"
     ]
    }
   ],
   "source": [
    "# Get the list of collections for an API root\n",
    "\n",
    "api_root = server.api_roots[0]\n",
    "for collection in api_root.collections:\n",
    "    print(collection.title)"
   ]
  },
  {
   "cell_type": "markdown",
   "metadata": {},
   "source": [
    "# STIX 2.0 Tutorial\n",
    "\n",
    "Starting with our reference to a TAXII server, do some stuff with STIX data"
   ]
  },
  {
   "cell_type": "code",
   "execution_count": 7,
   "metadata": {},
   "outputs": [],
   "source": [
    "from stix2 import TAXIICollectionSource, Filter\n",
    "\n",
    "taxii_source = TAXIICollectionSource(api_root.collections[0])"
   ]
  },
  {
   "cell_type": "code",
   "execution_count": null,
   "metadata": {},
   "outputs": [],
   "source": [
    "results = taxii_source.query(Filter(\"added_after\", \"=\", \"2018-05-25T00:00:00Z\"))\n",
    "print(\"Got {} results\".format(len(results)))"
   ]
  },
  {
   "cell_type": "code",
   "execution_count": null,
   "metadata": {},
   "outputs": [],
   "source": []
  },
  {
   "cell_type": "code",
   "execution_count": null,
   "metadata": {},
   "outputs": [],
   "source": []
  }
 ],
 "metadata": {
  "kernelspec": {
   "display_name": "Python 3",
   "language": "python",
   "name": "python3"
  },
  "language_info": {
   "codemirror_mode": {
    "name": "ipython",
    "version": 3
   },
   "file_extension": ".py",
   "mimetype": "text/x-python",
   "name": "python",
   "nbconvert_exporter": "python",
   "pygments_lexer": "ipython3",
   "version": "3.6.5"
  }
 },
 "nbformat": 4,
 "nbformat_minor": 2
}
